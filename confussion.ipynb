{
 "metadata": {
  "language_info": {
   "codemirror_mode": {
    "name": "ipython",
    "version": 3
   },
   "file_extension": ".py",
   "mimetype": "text/x-python",
   "name": "python",
   "nbconvert_exporter": "python",
   "pygments_lexer": "ipython3",
   "version": "3.8.2-final"
  },
  "orig_nbformat": 2,
  "kernelspec": {
   "name": "python38264bit42fb4ec475c14e2b956cc15bf5c0fc9f",
   "display_name": "Python 3.8.2 64-bit"
  }
 },
 "nbformat": 4,
 "nbformat_minor": 2,
 "cells": [
  {
   "cell_type": "code",
   "execution_count": 4,
   "metadata": {},
   "outputs": [
    {
     "output_type": "error",
     "ename": "ModuleNotFoundError",
     "evalue": "No module named 'pandas'",
     "traceback": [
      "\u001b[1;31m---------------------------------------------------------------------------\u001b[0m",
      "\u001b[1;31mModuleNotFoundError\u001b[0m                       Traceback (most recent call last)",
      "\u001b[1;32m<ipython-input-4-7830079ad368>\u001b[0m in \u001b[0;36m<module>\u001b[1;34m\u001b[0m\n\u001b[1;32m----> 1\u001b[1;33m \u001b[1;32mimport\u001b[0m \u001b[0mpandas\u001b[0m \u001b[1;32mas\u001b[0m \u001b[0mpd\u001b[0m\u001b[1;33m\u001b[0m\u001b[1;33m\u001b[0m\u001b[0m\n\u001b[0m\u001b[0;32m      2\u001b[0m \u001b[1;32mimport\u001b[0m \u001b[0mnumpy\u001b[0m \u001b[1;32mas\u001b[0m \u001b[0mnp\u001b[0m\u001b[1;33m\u001b[0m\u001b[1;33m\u001b[0m\u001b[0m\n\u001b[0;32m      3\u001b[0m \u001b[1;32mimport\u001b[0m \u001b[0mmatplotlib\u001b[0m\u001b[1;33m.\u001b[0m\u001b[0mpyplot\u001b[0m \u001b[1;32mas\u001b[0m \u001b[0mplt\u001b[0m\u001b[1;33m\u001b[0m\u001b[1;33m\u001b[0m\u001b[0m\n\u001b[0;32m      4\u001b[0m \u001b[0mget_ipython\u001b[0m\u001b[1;33m(\u001b[0m\u001b[1;33m)\u001b[0m\u001b[1;33m.\u001b[0m\u001b[0mrun_line_magic\u001b[0m\u001b[1;33m(\u001b[0m\u001b[1;34m'matplotlib'\u001b[0m\u001b[1;33m,\u001b[0m \u001b[1;34m'inline'\u001b[0m\u001b[1;33m)\u001b[0m\u001b[1;33m\u001b[0m\u001b[1;33m\u001b[0m\u001b[0m\n\u001b[0;32m      5\u001b[0m \u001b[1;33m\u001b[0m\u001b[0m\n",
      "\u001b[1;31mModuleNotFoundError\u001b[0m: No module named 'pandas'"
     ]
    }
   ],
   "source": [
    "import pandas as pd \n",
    "import numpy as np\n",
    "import matplotlib.pyplot as plt\n",
    "%matplotlib inline\n",
    "\n",
    "log = pd.read_csv(\"G:\\data\\datasets\\logogo.csv\")"
   ]
  },
  {
   "cell_type": "code",
   "execution_count": 8,
   "metadata": {},
   "outputs": [
    {
     "output_type": "execute_result",
     "data": {
      "text/plain": "   statusId  accelerate      X      Y      Z\n0         6           1 -0.268  0.536  9.785\n1         6           1 -0.268  0.536  9.785\n2         6           1 -0.268  0.536  9.785\n3         6           1 -0.268  0.536  9.785\n4         6           1 -0.268  0.536  9.785\n5         6           1 -0.268  0.536  9.785\n6         6           1 -0.268  0.536  9.785\n7         6           1 -0.268  0.536  9.785\n8         6           1 -0.268  0.536  9.785\n9         6           1 -0.268  0.536  9.785",
      "text/html": "<div>\n<style scoped>\n    .dataframe tbody tr th:only-of-type {\n        vertical-align: middle;\n    }\n\n    .dataframe tbody tr th {\n        vertical-align: top;\n    }\n\n    .dataframe thead th {\n        text-align: right;\n    }\n</style>\n<table border=\"1\" class=\"dataframe\">\n  <thead>\n    <tr style=\"text-align: right;\">\n      <th></th>\n      <th>statusId</th>\n      <th>accelerate</th>\n      <th>X</th>\n      <th>Y</th>\n      <th>Z</th>\n    </tr>\n  </thead>\n  <tbody>\n    <tr>\n      <th>0</th>\n      <td>6</td>\n      <td>1</td>\n      <td>-0.268</td>\n      <td>0.536</td>\n      <td>9.785</td>\n    </tr>\n    <tr>\n      <th>1</th>\n      <td>6</td>\n      <td>1</td>\n      <td>-0.268</td>\n      <td>0.536</td>\n      <td>9.785</td>\n    </tr>\n    <tr>\n      <th>2</th>\n      <td>6</td>\n      <td>1</td>\n      <td>-0.268</td>\n      <td>0.536</td>\n      <td>9.785</td>\n    </tr>\n    <tr>\n      <th>3</th>\n      <td>6</td>\n      <td>1</td>\n      <td>-0.268</td>\n      <td>0.536</td>\n      <td>9.785</td>\n    </tr>\n    <tr>\n      <th>4</th>\n      <td>6</td>\n      <td>1</td>\n      <td>-0.268</td>\n      <td>0.536</td>\n      <td>9.785</td>\n    </tr>\n    <tr>\n      <th>5</th>\n      <td>6</td>\n      <td>1</td>\n      <td>-0.268</td>\n      <td>0.536</td>\n      <td>9.785</td>\n    </tr>\n    <tr>\n      <th>6</th>\n      <td>6</td>\n      <td>1</td>\n      <td>-0.268</td>\n      <td>0.536</td>\n      <td>9.785</td>\n    </tr>\n    <tr>\n      <th>7</th>\n      <td>6</td>\n      <td>1</td>\n      <td>-0.268</td>\n      <td>0.536</td>\n      <td>9.785</td>\n    </tr>\n    <tr>\n      <th>8</th>\n      <td>6</td>\n      <td>1</td>\n      <td>-0.268</td>\n      <td>0.536</td>\n      <td>9.785</td>\n    </tr>\n    <tr>\n      <th>9</th>\n      <td>6</td>\n      <td>1</td>\n      <td>-0.268</td>\n      <td>0.536</td>\n      <td>9.785</td>\n    </tr>\n  </tbody>\n</table>\n</div>"
     },
     "metadata": {},
     "execution_count": 8
    }
   ],
   "source": [
    "log.head(10)"
   ]
  },
  {
   "cell_type": "code",
   "execution_count": 9,
   "metadata": {},
   "outputs": [
    {
     "output_type": "execute_result",
     "data": {
      "text/plain": "        statusId  accelerate      X      Y      Z\n273551         8           1 -6.972  5.784  7.475\n273552         8           1 -7.431  5.516  7.268\n273553         8           1 -7.661  5.439  7.268\n273554         8           1 -7.393  5.324  6.969\n273555         8           1 -6.512  5.133  6.969\n273556         8           1 -5.286  5.171  6.767\n273557         8           1 -3.792  5.286  6.767\n273558         8           1 -2.260  5.324  7.002\n273559         8           1 -1.187  5.554  7.002\n273560         8           1 -0.421  5.631  8.096",
      "text/html": "<div>\n<style scoped>\n    .dataframe tbody tr th:only-of-type {\n        vertical-align: middle;\n    }\n\n    .dataframe tbody tr th {\n        vertical-align: top;\n    }\n\n    .dataframe thead th {\n        text-align: right;\n    }\n</style>\n<table border=\"1\" class=\"dataframe\">\n  <thead>\n    <tr style=\"text-align: right;\">\n      <th></th>\n      <th>statusId</th>\n      <th>accelerate</th>\n      <th>X</th>\n      <th>Y</th>\n      <th>Z</th>\n    </tr>\n  </thead>\n  <tbody>\n    <tr>\n      <th>273551</th>\n      <td>8</td>\n      <td>1</td>\n      <td>-6.972</td>\n      <td>5.784</td>\n      <td>7.475</td>\n    </tr>\n    <tr>\n      <th>273552</th>\n      <td>8</td>\n      <td>1</td>\n      <td>-7.431</td>\n      <td>5.516</td>\n      <td>7.268</td>\n    </tr>\n    <tr>\n      <th>273553</th>\n      <td>8</td>\n      <td>1</td>\n      <td>-7.661</td>\n      <td>5.439</td>\n      <td>7.268</td>\n    </tr>\n    <tr>\n      <th>273554</th>\n      <td>8</td>\n      <td>1</td>\n      <td>-7.393</td>\n      <td>5.324</td>\n      <td>6.969</td>\n    </tr>\n    <tr>\n      <th>273555</th>\n      <td>8</td>\n      <td>1</td>\n      <td>-6.512</td>\n      <td>5.133</td>\n      <td>6.969</td>\n    </tr>\n    <tr>\n      <th>273556</th>\n      <td>8</td>\n      <td>1</td>\n      <td>-5.286</td>\n      <td>5.171</td>\n      <td>6.767</td>\n    </tr>\n    <tr>\n      <th>273557</th>\n      <td>8</td>\n      <td>1</td>\n      <td>-3.792</td>\n      <td>5.286</td>\n      <td>6.767</td>\n    </tr>\n    <tr>\n      <th>273558</th>\n      <td>8</td>\n      <td>1</td>\n      <td>-2.260</td>\n      <td>5.324</td>\n      <td>7.002</td>\n    </tr>\n    <tr>\n      <th>273559</th>\n      <td>8</td>\n      <td>1</td>\n      <td>-1.187</td>\n      <td>5.554</td>\n      <td>7.002</td>\n    </tr>\n    <tr>\n      <th>273560</th>\n      <td>8</td>\n      <td>1</td>\n      <td>-0.421</td>\n      <td>5.631</td>\n      <td>8.096</td>\n    </tr>\n  </tbody>\n</table>\n</div>"
     },
     "metadata": {},
     "execution_count": 9
    }
   ],
   "source": [
    "log.tail(10)"
   ]
  },
  {
   "cell_type": "code",
   "execution_count": 10,
   "metadata": {},
   "outputs": [
    {
     "output_type": "execute_result",
     "data": {
      "text/plain": "(273561, 5)"
     },
     "metadata": {},
     "execution_count": 10
    }
   ],
   "source": [
    "log.shape"
   ]
  },
  {
   "cell_type": "code",
   "execution_count": 11,
   "metadata": {},
   "outputs": [],
   "source": [
    "x = log.drop('statusId', axis =1)\n",
    "y = log['statusId']\n",
    "z = x.drop('accelerate', axis = 1)"
   ]
  },
  {
   "cell_type": "code",
   "execution_count": 12,
   "metadata": {},
   "outputs": [
    {
     "output_type": "execute_result",
     "data": {
      "text/plain": "       X      Y      Z\n0 -0.268  0.536  9.785\n1 -0.268  0.536  9.785\n2 -0.268  0.536  9.785\n3 -0.268  0.536  9.785\n4 -0.268  0.536  9.785\n5 -0.268  0.536  9.785\n6 -0.268  0.536  9.785\n7 -0.268  0.536  9.785\n8 -0.268  0.536  9.785\n9 -0.268  0.536  9.785",
      "text/html": "<div>\n<style scoped>\n    .dataframe tbody tr th:only-of-type {\n        vertical-align: middle;\n    }\n\n    .dataframe tbody tr th {\n        vertical-align: top;\n    }\n\n    .dataframe thead th {\n        text-align: right;\n    }\n</style>\n<table border=\"1\" class=\"dataframe\">\n  <thead>\n    <tr style=\"text-align: right;\">\n      <th></th>\n      <th>X</th>\n      <th>Y</th>\n      <th>Z</th>\n    </tr>\n  </thead>\n  <tbody>\n    <tr>\n      <th>0</th>\n      <td>-0.268</td>\n      <td>0.536</td>\n      <td>9.785</td>\n    </tr>\n    <tr>\n      <th>1</th>\n      <td>-0.268</td>\n      <td>0.536</td>\n      <td>9.785</td>\n    </tr>\n    <tr>\n      <th>2</th>\n      <td>-0.268</td>\n      <td>0.536</td>\n      <td>9.785</td>\n    </tr>\n    <tr>\n      <th>3</th>\n      <td>-0.268</td>\n      <td>0.536</td>\n      <td>9.785</td>\n    </tr>\n    <tr>\n      <th>4</th>\n      <td>-0.268</td>\n      <td>0.536</td>\n      <td>9.785</td>\n    </tr>\n    <tr>\n      <th>5</th>\n      <td>-0.268</td>\n      <td>0.536</td>\n      <td>9.785</td>\n    </tr>\n    <tr>\n      <th>6</th>\n      <td>-0.268</td>\n      <td>0.536</td>\n      <td>9.785</td>\n    </tr>\n    <tr>\n      <th>7</th>\n      <td>-0.268</td>\n      <td>0.536</td>\n      <td>9.785</td>\n    </tr>\n    <tr>\n      <th>8</th>\n      <td>-0.268</td>\n      <td>0.536</td>\n      <td>9.785</td>\n    </tr>\n    <tr>\n      <th>9</th>\n      <td>-0.268</td>\n      <td>0.536</td>\n      <td>9.785</td>\n    </tr>\n  </tbody>\n</table>\n</div>"
     },
     "metadata": {},
     "execution_count": 12
    }
   ],
   "source": [
    "z.head(10)"
   ]
  },
  {
   "cell_type": "code",
   "execution_count": 13,
   "metadata": {},
   "outputs": [],
   "source": [
    "from sklearn.model_selection import train_test_split\n",
    "y_train, y_test, z_train, z_test = train_test_split(y,z, test_size = 0.2)"
   ]
  },
  {
   "cell_type": "code",
   "execution_count": 14,
   "metadata": {},
   "outputs": [
    {
     "output_type": "execute_result",
     "data": {
      "text/plain": "62719     6\n167479    7\n17978     6\n147614    7\n45128     6\n196179    8\n238113    8\n23837     6\n28763     6\n3929      6\nName: statusId, dtype: int64"
     },
     "metadata": {},
     "execution_count": 14
    }
   ],
   "source": [
    "y_train.head(10)"
   ]
  },
  {
   "cell_type": "code",
   "execution_count": 15,
   "metadata": {},
   "outputs": [
    {
     "output_type": "execute_result",
     "data": {
      "text/plain": "DecisionTreeClassifier()"
     },
     "metadata": {},
     "execution_count": 15
    }
   ],
   "source": [
    "from sklearn.tree import DecisionTreeClassifier\n",
    "classifier = DecisionTreeClassifier()\n",
    "classifier.fit(z_train, y_train)"
   ]
  },
  {
   "cell_type": "code",
   "execution_count": 16,
   "metadata": {},
   "outputs": [],
   "source": [
    "y_pred = classifier.predict(z_test)"
   ]
  },
  {
   "cell_type": "code",
   "execution_count": 17,
   "metadata": {
    "tags": []
   },
   "outputs": [
    {
     "output_type": "stream",
     "name": "stdout",
     "text": "[[18011     0     0]\n [    0 16790  1167]\n [    0  1224 17521]]\n              precision    recall  f1-score   support\n\n           6       1.00      1.00      1.00     18011\n           7       0.93      0.94      0.93     17957\n           8       0.94      0.93      0.94     18745\n\n    accuracy                           0.96     54713\n   macro avg       0.96      0.96      0.96     54713\nweighted avg       0.96      0.96      0.96     54713\n\n"
    }
   ],
   "source": [
    "from sklearn.metrics import classification_report, confusion_matrix\n",
    "print(confusion_matrix(y_test, y_pred))\n",
    "print(classification_report(y_test, y_pred))"
   ]
  },
  {
   "cell_type": "code",
   "execution_count": 18,
   "metadata": {
    "tags": []
   },
   "outputs": [
    {
     "output_type": "stream",
     "text": "\u001b[1;31mSignature:\u001b[0m\n\u001b[0mconfusion_matrix\u001b[0m\u001b[1;33m(\u001b[0m\u001b[1;33m\n\u001b[0m    \u001b[0my_true\u001b[0m\u001b[1;33m,\u001b[0m\u001b[1;33m\n\u001b[0m    \u001b[0my_pred\u001b[0m\u001b[1;33m,\u001b[0m\u001b[1;33m\n\u001b[0m    \u001b[1;33m*\u001b[0m\u001b[1;33m,\u001b[0m\u001b[1;33m\n\u001b[0m    \u001b[0mlabels\u001b[0m\u001b[1;33m=\u001b[0m\u001b[1;32mNone\u001b[0m\u001b[1;33m,\u001b[0m\u001b[1;33m\n\u001b[0m    \u001b[0msample_weight\u001b[0m\u001b[1;33m=\u001b[0m\u001b[1;32mNone\u001b[0m\u001b[1;33m,\u001b[0m\u001b[1;33m\n\u001b[0m    \u001b[0mnormalize\u001b[0m\u001b[1;33m=\u001b[0m\u001b[1;32mNone\u001b[0m\u001b[1;33m,\u001b[0m\u001b[1;33m\n\u001b[0m\u001b[1;33m)\u001b[0m\u001b[1;33m\u001b[0m\u001b[1;33m\u001b[0m\u001b[0m\n\u001b[1;31mDocstring:\u001b[0m\nCompute confusion matrix to evaluate the accuracy of a classification.\n\nBy definition a confusion matrix :math:`C` is such that :math:`C_{i, j}`\nis equal to the number of observations known to be in group :math:`i` and\npredicted to be in group :math:`j`.\n\nThus in binary classification, the count of true negatives is\n:math:`C_{0,0}`, false negatives is :math:`C_{1,0}`, true positives is\n:math:`C_{1,1}` and false positives is :math:`C_{0,1}`.\n\nRead more in the :ref:`User Guide <confusion_matrix>`.\n\nParameters\n----------\ny_true : array-like of shape (n_samples,)\n    Ground truth (correct) target values.\n\ny_pred : array-like of shape (n_samples,)\n    Estimated targets as returned by a classifier.\n\nlabels : array-like of shape (n_classes), default=None\n    List of labels to index the matrix. This may be used to reorder\n    or select a subset of labels.\n    If ``None`` is given, those that appear at least once\n    in ``y_true`` or ``y_pred`` are used in sorted order.\n\nsample_weight : array-like of shape (n_samples,), default=None\n    Sample weights.\n\n    .. versionadded:: 0.18\n\nnormalize : {'true', 'pred', 'all'}, default=None\n    Normalizes confusion matrix over the true (rows), predicted (columns)\n    conditions or all the population. If None, confusion matrix will not be\n    normalized.\n\nReturns\n-------\nC : ndarray of shape (n_classes, n_classes)\n    Confusion matrix whose i-th row and j-th\n    column entry indicates the number of\n    samples with true label being i-th class\n    and prediced label being j-th class.\n\nReferences\n----------\n.. [1] `Wikipedia entry for the Confusion matrix\n       <https://en.wikipedia.org/wiki/Confusion_matrix>`_\n       (Wikipedia and other references may use a different\n       convention for axes)\n\nExamples\n--------\n>>> from sklearn.metrics import confusion_matrix\n>>> y_true = [2, 0, 2, 2, 0, 1]\n>>> y_pred = [0, 0, 2, 2, 0, 2]\n>>> confusion_matrix(y_true, y_pred)\narray([[2, 0, 0],\n       [0, 0, 1],\n       [1, 0, 2]])\n\n>>> y_true = [\"cat\", \"ant\", \"cat\", \"cat\", \"ant\", \"bird\"]\n>>> y_pred = [\"ant\", \"ant\", \"cat\", \"cat\", \"ant\", \"cat\"]\n>>> confusion_matrix(y_true, y_pred, labels=[\"ant\", \"bird\", \"cat\"])\narray([[2, 0, 0],\n       [0, 0, 1],\n       [1, 0, 2]])\n\nIn the binary case, we can extract true positives, etc as follows:\n\n>>> tn, fp, fn, tp = confusion_matrix([0, 1, 0, 1], [1, 1, 1, 0]).ravel()\n>>> (tn, fp, fn, tp)\n(0, 2, 1, 1)\n\u001b[1;31mFile:\u001b[0m      g:\\data\\.data\\lib\\site-packages\\sklearn\\metrics\\_classification.py\n\u001b[1;31mType:\u001b[0m      function\n"
    }
   ],
   "source": [
    "confusion_matrix?"
   ]
  },
  {
   "cell_type": "code",
   "execution_count": 19,
   "metadata": {
    "tags": []
   },
   "outputs": [
    {
     "output_type": "stream",
     "name": "stdout",
     "text": "Object `pandas` not found.\n"
    }
   ],
   "source": [
    "pandas?"
   ]
  },
  {
   "cell_type": "code",
   "execution_count": 20,
   "metadata": {
    "tags": []
   },
   "outputs": [
    {
     "output_type": "stream",
     "name": "stdout",
     "text": "Object `sklearn` not found.\n"
    }
   ],
   "source": [
    "sklearn?"
   ]
  },
  {
   "cell_type": "code",
   "execution_count": 21,
   "metadata": {
    "tags": []
   },
   "outputs": [
    {
     "output_type": "stream",
     "name": "stdout",
     "text": "Object `pd.Dataframe` not found.\n"
    }
   ],
   "source": [
    "pd.Dataframe?"
   ]
  },
  {
   "cell_type": "code",
   "execution_count": null,
   "metadata": {},
   "outputs": [],
   "source": []
  }
 ]
}